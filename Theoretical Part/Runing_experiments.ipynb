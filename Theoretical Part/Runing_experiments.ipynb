{
 "cells": [
  {
   "attachments": {},
   "cell_type": "markdown",
   "metadata": {},
   "source": [
    "# Theoretical part\n",
    "### Running experiments and saving to excels\n",
    "Dor Liberman and Afik Ben Shimol"
   ]
  },
  {
   "cell_type": "code",
   "execution_count": null,
   "metadata": {},
   "outputs": [],
   "source": [
    "import random\n",
    "import numpy as np\n",
    "import pandas as pd\n",
    "import sys\n",
    "if \"..\" not in sys.path:\n",
    "    sys.path.append(\"..\")\n",
    "import AVLTreeList as avl\n",
    "\n",
    "LETTERS = list(\"QWERTYUIOPASDFGHJKLZXCVBNMqwertyuiopasdfghjklzxcvbnm1234567890\")"
   ]
  },
  {
   "attachments": {},
   "cell_type": "markdown",
   "metadata": {},
   "source": [
    "### Q1: Repeated insertions and deletions"
   ]
  },
  {
   "cell_type": "code",
   "execution_count": null,
   "metadata": {},
   "outputs": [],
   "source": [
    "n = 1500\n",
    "rotations_count = pd.DataFrame({\n",
    "    \"Insert\": np.array([0 for i in range(10)]),\n",
    "    \"Delete\": np.array([0 for i in range(10)]),\n",
    "    \"Alternating\": np.array([0 for i in range(10)])\n",
    "    })\n",
    "for i in range(10):\n",
    "    print(i, end=\" \")\n",
    "    n = n*2\n",
    "    lst = avl.AVLTreeList()\n",
    "\n",
    "    print(\"insert\",end=\" \")\n",
    "    # measure insertions\n",
    "    for j in range(n):\n",
    "        l = lst.length()\n",
    "        index = 0 if l <= 0 else random.randint(0, l)\n",
    "        value = random.choice(LETTERS)\n",
    "        rotations_count.Insert[i] += lst.insert(index, value)\n",
    "\n",
    "    print(\"delete\", end=\" \")\n",
    "    # measure deletions\n",
    "    for j in range(n):\n",
    "        l = lst.length()\n",
    "        index = 0 if l == 0 else random.randint(0, l)\n",
    "        rotations_count.Delete[i] += lst.delete(index)\n",
    "\n",
    "    del lst\n",
    "    print(\"alter\")\n",
    "    # measure alternating insertsions and deletions\n",
    "    lst = avl.AVLTreeList()\n",
    "    for j in range(n//2): # setup\n",
    "        value = random.choice(LETTERS)\n",
    "        lst.insert(j, value) \n",
    "    for j in range(n//4): # measurement\n",
    "        l = lst.length()\n",
    "        # insert\n",
    "        index = 0 if l == 0 else random.randint(0, l) \n",
    "        value = random.choice(LETTERS)\n",
    "        rotations_count.Alternating[i] += lst.insert(index, value)\n",
    "        # delete\n",
    "        index = 0 if l+1 == 0 else random.randint(0, l+1)\n",
    "        rotations_count.Alternating[i] += lst.delete(index)\n",
    "    del lst"
   ]
  },
  {
   "cell_type": "code",
   "execution_count": null,
   "metadata": {},
   "outputs": [],
   "source": [
    "# save to excel\n",
    "rotations_count.to_excel(\"excels\\\\rotations experiment avl tree.xlsx\")"
   ]
  },
  {
   "attachments": {},
   "cell_type": "markdown",
   "metadata": {},
   "source": [
    "## Q2: Time measurements\n",
    "comparing against list ADT implementations using linked list and dynamic array (doubling)"
   ]
  },
  {
   "cell_type": "code",
   "execution_count": null,
   "metadata": {},
   "outputs": [],
   "source": [
    "from time import time as time\n",
    "import timeit\n",
    "from mylists import linked_list\n",
    "N = 1500\n",
    "tree_time_sec = pd.DataFrame({\n",
    "    \"Start\": np.array([0.0 for i in range(10)]),\n",
    "    \"Random\": np.array([0.0 for i in range(10)]),\n",
    "    \"End\": np.array([0.0 for i in range(10)])\n",
    "    })\n",
    "array_time_sec = pd.DataFrame({\n",
    "    \"Start\": np.array([0.0 for i in range(10)]),\n",
    "    \"Random\": np.array([0.0 for i in range(10)]),\n",
    "    \"End\": np.array([0.0 for i in range(10)])\n",
    "    })\n",
    "linked_time_sec = pd.DataFrame({\n",
    "    \"Start\": np.array([0.0 for i in range(10)]),\n",
    "    \"Random\": np.array([0.0 for i in range(10)]),\n",
    "    \"End\": np.array([0.0 for i in range(10)])\n",
    "    })\n",
    "def insert_to_list(lst, mode):\n",
    "        # measure insertions\n",
    "        l = lst.length()\n",
    "        if mode == \"Random\":\n",
    "            index = 0 if l <= 0 else random.randint(0, l)\n",
    "        elif mode == \"End\":\n",
    "            index = l\n",
    "        else:\n",
    "            assert mode == \"Start\", mode\n",
    "            index = 0\n",
    "        value = random.choice(LETTERS)\n",
    "        lst.insert(index, value)\n",
    "\n",
    "for i in range(10):\n",
    "    print(i, \"start...\", end=\" \")\n",
    "    n = N*(i+1)\n",
    "    # tree\n",
    "    lst = avl.AVLTreeList()\n",
    "    tree_time_sec.Start[i] = timeit.timeit(lambda: insert_to_list(lst, \"Start\"), number=n)\n",
    "    avl.AVLTreeList()\n",
    "    tree_time_sec.Random[i] = timeit.timeit(lambda: insert_to_list(lst, \"Random\"), number=n)\n",
    "    avl.AVLTreeList()\n",
    "    tree_time_sec.End[i] = timeit.timeit(lambda: insert_to_list(lst, \"End\"), number=n)\n",
    "    # linked list\n",
    "    lst = linked_list()\n",
    "    linked_time_sec.Start[i] = timeit.timeit(lambda: insert_to_list(lst, \"Start\"), number=n)\n",
    "    lst = linked_list()\n",
    "    linked_time_sec.Random[i] = timeit.timeit(lambda: insert_to_list(lst, \"Random\"), number=n)\n",
    "    lst = linked_list()\n",
    "    linked_time_sec.End[i] = timeit.timeit(lambda: insert_to_list(lst, \"End\"), number=n)\n",
    "    # dynamic array\n",
    "    lst = list()\n",
    "    array_time_sec.Start[i] = timeit.timeit(lambda: insert_to_list(lst, \"Start\"), number=n)\n",
    "    lst = list()\n",
    "    array_time_sec.Random[i] = timeit.timeit(lambda: insert_to_list(lst, \"Random\"), number=n)\n",
    "    lst = list()\n",
    "    array_time_sec.End[i] = timeit.timeit(lambda: insert_to_list(lst, \"End\"), number=n)\n",
    "    print(\"end\")"
   ]
  },
  {
   "cell_type": "code",
   "execution_count": null,
   "metadata": {},
   "outputs": [],
   "source": [
    "# save to excels\n",
    "linked_time_sec.to_excel(\"excels\\\\linked list time experiment.xlsx\")\n",
    "array_time_sec.to_excel(\"excels\\\\Dynamic array time experiment.xlsx\")\n",
    "tree_time_sec.to_excel(\"excels\\\\AVL tree time experiment.xlsx\")"
   ]
  }
 ],
 "metadata": {
  "kernelspec": {
   "display_name": "base",
   "language": "python",
   "name": "python3"
  },
  "language_info": {
   "codemirror_mode": {
    "name": "ipython",
    "version": 3
   },
   "file_extension": ".py",
   "mimetype": "text/x-python",
   "name": "python",
   "nbconvert_exporter": "python",
   "pygments_lexer": "ipython3",
   "version": "3.9.13"
  },
  "orig_nbformat": 4,
  "vscode": {
   "interpreter": {
    "hash": "ad2bdc8ecc057115af97d19610ffacc2b4e99fae6737bb82f5d7fb13d2f2c186"
   }
  }
 },
 "nbformat": 4,
 "nbformat_minor": 2
}
